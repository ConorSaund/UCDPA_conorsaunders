{
  "nbformat": 4,
  "nbformat_minor": 0,
  "metadata": {
    "colab": {
      "provenance": [],
      "authorship_tag": "ABX9TyPAHltMrZbI0HXRw6Lv3Wbr",
      "include_colab_link": true
    },
    "kernelspec": {
      "name": "python3",
      "display_name": "Python 3"
    },
    "language_info": {
      "name": "python"
    }
  },
  "cells": [
    {
      "cell_type": "markdown",
      "metadata": {
        "id": "view-in-github",
        "colab_type": "text"
      },
      "source": [
        "<a href=\"https://colab.research.google.com/github/ConorSaund/UCDPA_conorsaunders/blob/main/UCDPA_code.ipynb\" target=\"_parent\"><img src=\"https://colab.research.google.com/assets/colab-badge.svg\" alt=\"Open In Colab\"/></a>"
      ]
    },
    {
      "cell_type": "code",
      "execution_count": 4,
      "metadata": {
        "id": "bacSi1GTP32h"
      },
      "outputs": [],
      "source": [
        "import pandas as pd\n",
        "import numpy as np\n",
        "import matplotlib.pyplot as plt\n",
        "import seaborn as sns"
      ]
    },
    {
      "cell_type": "code",
      "source": [
        "#from google.colab import drive\n",
        "#drive.mount('/content/drive')"
      ],
      "metadata": {
        "id": "A3zuTEqpJOfT"
      },
      "execution_count": 5,
      "outputs": []
    },
    {
      "cell_type": "code",
      "source": [
        "url = 'https://raw.githubusercontent.com/ConorSaund/UCDPA_conorsaunders/main/Sleep_Efficiency.csv'\n",
        "df = pd.read_csv(url)"
      ],
      "metadata": {
        "id": "dBlOEOM2QTTs"
      },
      "execution_count": 6,
      "outputs": []
    },
    {
      "cell_type": "code",
      "source": [
        "df.head()"
      ],
      "metadata": {
        "id": "xHt7bhTcQWl0"
      },
      "execution_count": null,
      "outputs": []
    },
    {
      "cell_type": "code",
      "source": [
        "df.isnull().sum()"
      ],
      "metadata": {
        "id": "NirZXMOrRg7_"
      },
      "execution_count": null,
      "outputs": []
    },
    {
      "cell_type": "code",
      "source": [
        "# Count the number of non-null values under the \"Gender\" header\n",
        "gender_count = df['Gender'].count()\n",
        "\n",
        "# Show the distribution of Male and Female\n",
        "gender_distribution = df['Gender'].value_counts()\n",
        "\n",
        "print(\"Number of non-null values under 'Gender' header: \", gender_count)\n",
        "print(\"Distribution of Male and Female: \")\n",
        "print(gender_distribution)"
      ],
      "metadata": {
        "id": "yW3qY8zmW1LF"
      },
      "execution_count": null,
      "outputs": []
    },
    {
      "cell_type": "code",
      "source": [
        "# create a bar plot for Age\n",
        "plt.figure()\n",
        "df['Age'].plot(kind='hist', bins=20, edgecolor='black')\n",
        "plt.xlabel('Age')\n",
        "plt.ylabel('Count')\n",
        "plt.title('Distribution of Age')\n",
        "#plt.savefig('/content/drive/My Drive/Test/age_distribution.png')\n",
        "\n",
        "# create a stacked bar plot for Gender and Smoking status\n",
        "plt.figure()\n",
        "grouped = df.groupby(['Gender', 'Smoking status']).size().unstack()\n",
        "grouped.plot(kind='bar', stacked=True, edgecolor='black')\n",
        "plt.xlabel('Gender')\n",
        "plt.ylabel('Count')\n",
        "plt.title('Distribution of Gender and Smoking Status')\n",
        "#plt.savefig('/content/drive/My Drive/Test/gender_smoking_distribution.png')\n",
        "\n",
        "# create a grouped bar plot for Exercise frequency\n",
        "plt.figure()\n",
        "grouped = df.groupby(['Exercise frequency', 'Smoking status']).size().unstack()\n",
        "grouped.plot(kind='bar', edgecolor='black')\n",
        "plt.xlabel('Exercise Frequency')\n",
        "plt.ylabel('Count')\n",
        "plt.title('Distribution of Exercise Frequency by Smoking Status')\n",
        "#plt.savefig('/content/drive/My Drive/Test/exercise_smoking_distribution.png')"
      ],
      "metadata": {
        "id": "4vgXoJ-ncq6L"
      },
      "execution_count": null,
      "outputs": []
    },
    {
      "cell_type": "code",
      "source": [
        "# Convert bedtime and wakeup time columns to datetime objects\n",
        "df['Bedtime'] = pd.to_datetime(df['Bedtime'])\n",
        "df['Wakeup time'] = pd.to_datetime(df['Wakeup time'])\n",
        "\n",
        "# Create line plots for bedtime, wakeup time, sleep duration, and sleep efficiency\n",
        "fig, axs = plt.subplots(2, 2, figsize=(10, 8))\n",
        "\n",
        "axs[0, 0].plot(df['Bedtime'], df['ID'], '.')\n",
        "axs[0, 0].set_xlabel('Bedtime')\n",
        "axs[0, 0].set_ylabel('ID')\n",
        "\n",
        "axs[0, 1].plot(df['Wakeup time'], df['ID'], '.')\n",
        "axs[0, 1].set_xlabel('Wakeup time')\n",
        "axs[0, 1].set_ylabel('ID')\n",
        "\n",
        "axs[1, 0].plot(df['Sleep duration'], df['ID'], '.')\n",
        "axs[1, 0].set_xlabel('Sleep duration (hours)')\n",
        "axs[1, 0].set_ylabel('ID')\n",
        "\n",
        "axs[1, 1].plot(df['Sleep efficiency'], df['ID'], '.')\n",
        "axs[1, 1].set_xlabel('Sleep efficiency (%)')\n",
        "axs[1, 1].set_ylabel('ID')\n",
        "\n",
        "# Add trend lines\n",
        "bedtime_trend = np.polyfit(df['Bedtime'].dt.hour, df['ID'], 1)\n",
        "wakeup_trend = np.polyfit(df['Wakeup time'].dt.hour, df['ID'], 1)\n",
        "duration_trend = np.polyfit(df['Sleep duration'], df['ID'], 1)\n",
        "efficiency_trend = np.polyfit(df['Sleep efficiency'], df['ID'], 1)\n",
        "\n",
        "bedtime_line = axs[0, 0].plot(df['Bedtime'], np.polyval(bedtime_trend, df['Bedtime'].dt.hour), 'r')\n",
        "wakeup_line = axs[0, 1].plot(df['Wakeup time'], np.polyval(wakeup_trend, df['Wakeup time'].dt.hour), 'r')\n",
        "duration_line = axs[1, 0].plot(df['Sleep duration'], np.polyval(duration_trend, df['Sleep duration']), 'r')\n",
        "efficiency_line = axs[1, 1].plot(df['Sleep efficiency'], np.polyval(efficiency_trend, df['Sleep efficiency']), 'r')\n",
        "\n",
        "# Add titles and legends\n",
        "axs[0, 0].set_title('Bedtime by ID')\n",
        "axs[0, 1].set_title('Wakeup time by ID')\n",
        "axs[1, 0].set_title('Sleep duration by ID')\n",
        "axs[1, 1].set_title('Sleep efficiency by ID')\n",
        "\n",
        "fig.legend([bedtime_line[0], wakeup_line[0], duration_line[0], efficiency_line[0]], \n",
        "           ['Bedtime', 'Wakeup time', 'Sleep duration', 'Sleep efficiency'], loc='lower center', ncol=4)\n",
        "\n",
        "plt.tight_layout()\n",
        "plt.show()\n"
      ],
      "metadata": {
        "id": "21dFH51DiXf6"
      },
      "execution_count": null,
      "outputs": []
    },
    {
      "cell_type": "code",
      "source": [
        "# Group the data by gender, smoking status, and exercise frequency\n",
        "grouped = df.groupby(['Gender', 'Smoking status', 'Exercise frequency']).mean()[['REM sleep percentage', 'Deep sleep percentage', 'Light sleep percentage']]\n",
        "\n",
        "# Create stacked bar plots for each sleep stage\n",
        "grouped.plot(kind='bar', stacked=True, figsize=(10, 6))\n",
        "\n",
        "# Set the axis labels and title\n",
        "plt.xlabel('Gender, Smoking status, Exercise frequency')\n",
        "plt.ylabel('Sleep stage percentage')\n",
        "plt.title('Percentage of each sleep stage by Gender, Smoking status, and Exercise frequency')\n",
        "\n",
        "# Show the plot\n",
        "plt.show()"
      ],
      "metadata": {
        "id": "tf9KojCwyMDm"
      },
      "execution_count": null,
      "outputs": []
    },
    {
      "cell_type": "code",
      "source": [
        "# Boxplot for Awakenings, Caffeine consumption, and Alcohol consumption\n",
        "fig, axs = plt.subplots(1, 3, figsize=(12, 4))\n",
        "axs[0].boxplot(df['Awakenings'], labels=['Awakenings'])\n",
        "axs[1].boxplot(df['Caffeine consumption'], labels=['Caffeine consumption'])\n",
        "axs[2].boxplot(df['Alcohol consumption'], labels=['Alcohol consumption'])\n",
        "fig.suptitle('Distribution of Awakenings, Caffeine consumption, and Alcohol consumption')\n",
        "plt.show()"
      ],
      "metadata": {
        "id": "hG1xHpV9yjCy"
      },
      "execution_count": null,
      "outputs": []
    },
    {
      "cell_type": "code",
      "source": [
        "# set color scheme hex values\n",
        "colors = ['#5482A0', '#82A0AA', '#D9A670', '#D9B88B', '#A56C7A', '#82A06D']\n",
        "\n",
        "# create a bar plot for Age\n",
        "plt.figure()\n",
        "df['Age'].plot(kind='hist', bins=20, edgecolor='black', color=colors[0])\n",
        "plt.xlabel('Age')\n",
        "plt.ylabel('Count')\n",
        "plt.title('Distribution of Age')\n",
        "plt.savefig('/content/drive/My Drive/Test/age_distribution.png')\n",
        "\n",
        "# create a stacked bar plot for Gender and Smoking status\n",
        "plt.figure()\n",
        "grouped = df.groupby(['Gender', 'Smoking status']).size().unstack()\n",
        "grouped.plot(kind='bar', stacked=True, edgecolor='black', color=colors[1:3])\n",
        "plt.xlabel('Gender')\n",
        "plt.ylabel('Count')\n",
        "plt.title('Distribution of Gender and Smoking Status')\n",
        "plt.savefig('/content/drive/My Drive/Test/gender_smoking_distribution.png')\n",
        "\n",
        "# create a grouped bar plot for Exercise frequency\n",
        "plt.figure()\n",
        "grouped = df.groupby(['Exercise frequency', 'Smoking status']).size().unstack()\n",
        "grouped.plot(kind='bar', edgecolor='black', color=colors[3:6])\n",
        "plt.xlabel('Exercise Frequency')\n",
        "plt.ylabel('Count')\n",
        "plt.title('Distribution of Exercise Frequency by Smoking Status')\n",
        "plt.savefig('/content/drive/My Drive/Test/exercise_smoking_distribution.png')\n"
      ],
      "metadata": {
        "id": "t9p0uKoTR2tl"
      },
      "execution_count": null,
      "outputs": []
    }
  ]
}