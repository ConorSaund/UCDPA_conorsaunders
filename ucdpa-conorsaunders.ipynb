{
 "cells": [
  {
   "cell_type": "code",
   "execution_count": 1,
   "id": "59c34da3",
   "metadata": {
    "_cell_guid": "b1076dfc-b9ad-4769-8c92-a6c4dae69d19",
    "_uuid": "8f2839f25d086af736a60e9eeb907d3b93b6e0e5",
    "execution": {
     "iopub.execute_input": "2023-03-11T16:47:00.366521Z",
     "iopub.status.busy": "2023-03-11T16:47:00.366121Z",
     "iopub.status.idle": "2023-03-11T16:47:00.392583Z",
     "shell.execute_reply": "2023-03-11T16:47:00.391220Z"
    },
    "papermill": {
     "duration": 0.039356,
     "end_time": "2023-03-11T16:47:00.395794",
     "exception": false,
     "start_time": "2023-03-11T16:47:00.356438",
     "status": "completed"
    },
    "tags": []
   },
   "outputs": [
    {
     "name": "stdout",
     "output_type": "stream",
     "text": [
      "/kaggle/input/airbnb-prices-in-european-cities/paris_weekends.csv\n",
      "/kaggle/input/airbnb-prices-in-european-cities/rome_weekends.csv\n",
      "/kaggle/input/airbnb-prices-in-european-cities/berlin_weekdays.csv\n",
      "/kaggle/input/airbnb-prices-in-european-cities/amsterdam_weekends.csv\n",
      "/kaggle/input/airbnb-prices-in-european-cities/lisbon_weekends.csv\n",
      "/kaggle/input/airbnb-prices-in-european-cities/amsterdam_weekdays.csv\n",
      "/kaggle/input/airbnb-prices-in-european-cities/rome_weekdays.csv\n",
      "/kaggle/input/airbnb-prices-in-european-cities/athens_weekends.csv\n",
      "/kaggle/input/airbnb-prices-in-european-cities/budapest_weekends.csv\n",
      "/kaggle/input/airbnb-prices-in-european-cities/barcelona_weekdays.csv\n",
      "/kaggle/input/airbnb-prices-in-european-cities/barcelona_weekends.csv\n",
      "/kaggle/input/airbnb-prices-in-european-cities/budapest_weekdays.csv\n",
      "/kaggle/input/airbnb-prices-in-european-cities/vienna_weekdays.csv\n",
      "/kaggle/input/airbnb-prices-in-european-cities/london_weekends.csv\n",
      "/kaggle/input/airbnb-prices-in-european-cities/berlin_weekends.csv\n",
      "/kaggle/input/airbnb-prices-in-european-cities/paris_weekdays.csv\n",
      "/kaggle/input/airbnb-prices-in-european-cities/athens_weekdays.csv\n",
      "/kaggle/input/airbnb-prices-in-european-cities/vienna_weekends.csv\n",
      "/kaggle/input/airbnb-prices-in-european-cities/lisbon_weekdays.csv\n",
      "/kaggle/input/airbnb-prices-in-european-cities/london_weekdays.csv\n"
     ]
    }
   ],
   "source": [
    "# This Python 3 environment comes with many helpful analytics libraries installed\n",
    "# It is defined by the kaggle/python Docker image: https://github.com/kaggle/docker-python\n",
    "# For example, here's several helpful packages to load\n",
    "\n",
    "import numpy as np # linear algebra\n",
    "import pandas as pd # data processing, CSV file I/O (e.g. pd.read_csv)\n",
    "\n",
    "# Input data files are available in the read-only \"../input/\" directory\n",
    "# For example, running this (by clicking run or pressing Shift+Enter) will list all files under the input directory\n",
    "\n",
    "import os\n",
    "for dirname, _, filenames in os.walk('/kaggle/input'):\n",
    "    for filename in filenames:\n",
    "        print(os.path.join(dirname, filename))\n",
    "\n",
    "# You can write up to 20GB to the current directory (/kaggle/working/) that gets preserved as output when you create a version using \"Save & Run All\" \n",
    "# You can also write temporary files to /kaggle/temp/, but they won't be saved outside of the current session"
   ]
  },
  {
   "cell_type": "code",
   "execution_count": 2,
   "id": "3810d7f4",
   "metadata": {
    "execution": {
     "iopub.execute_input": "2023-03-11T16:47:00.409448Z",
     "iopub.status.busy": "2023-03-11T16:47:00.409067Z",
     "iopub.status.idle": "2023-03-11T16:47:01.665574Z",
     "shell.execute_reply": "2023-03-11T16:47:01.663722Z"
    },
    "papermill": {
     "duration": 1.266522,
     "end_time": "2023-03-11T16:47:01.668323",
     "exception": false,
     "start_time": "2023-03-11T16:47:00.401801",
     "status": "completed"
    },
    "tags": []
   },
   "outputs": [],
   "source": [
    "#Initialising the packages\n",
    "import pandas as pd\n",
    "import numpy as np\n",
    "import seaborn as sns\n",
    "import matplotlib.pyplot as plt"
   ]
  },
  {
   "cell_type": "code",
   "execution_count": 3,
   "id": "8ed2a205",
   "metadata": {
    "execution": {
     "iopub.execute_input": "2023-03-11T16:47:01.682131Z",
     "iopub.status.busy": "2023-03-11T16:47:01.681545Z",
     "iopub.status.idle": "2023-03-11T16:47:02.232995Z",
     "shell.execute_reply": "2023-03-11T16:47:02.231564Z"
    },
    "papermill": {
     "duration": 0.562576,
     "end_time": "2023-03-11T16:47:02.236512",
     "exception": false,
     "start_time": "2023-03-11T16:47:01.673936",
     "status": "completed"
    },
    "tags": []
   },
   "outputs": [],
   "source": [
    "#Inputting all relevant data\n",
    "amsterdam_weekdays = pd.read_csv('/kaggle/input/airbnb-prices-in-european-cities/amsterdam_weekdays.csv')\n",
    "amsterdam_weekends = pd.read_csv('/kaggle/input/airbnb-prices-in-european-cities/amsterdam_weekends.csv')\n",
    "athens_weekdays = pd.read_csv('/kaggle/input/airbnb-prices-in-european-cities/athens_weekdays.csv')\n",
    "athens_weekends = pd.read_csv('/kaggle/input/airbnb-prices-in-european-cities/athens_weekends.csv')\n",
    "barcelona_weekdays = pd.read_csv('/kaggle/input/airbnb-prices-in-european-cities/barcelona_weekdays.csv')\n",
    "barcelona_weekends = pd.read_csv('/kaggle/input/airbnb-prices-in-european-cities/barcelona_weekends.csv')\n",
    "berlin_weekdays = pd.read_csv('/kaggle/input/airbnb-prices-in-european-cities/berlin_weekdays.csv')\n",
    "berlin_weekends = pd.read_csv('/kaggle/input/airbnb-prices-in-european-cities/berlin_weekends.csv')\n",
    "budapest_weekdays = pd.read_csv('/kaggle/input/airbnb-prices-in-european-cities/budapest_weekdays.csv')\n",
    "budapest_weekends = pd.read_csv('/kaggle/input/airbnb-prices-in-european-cities/budapest_weekends.csv')\n",
    "lisbon_weekdays = pd.read_csv('/kaggle/input/airbnb-prices-in-european-cities/lisbon_weekdays.csv')\n",
    "lisbon_weekends = pd.read_csv('/kaggle/input/airbnb-prices-in-european-cities/lisbon_weekends.csv')\n",
    "london_weekdays = pd.read_csv('/kaggle/input/airbnb-prices-in-european-cities/london_weekdays.csv')\n",
    "london_weekends = pd.read_csv('/kaggle/input/airbnb-prices-in-european-cities/london_weekends.csv')\n",
    "paris_weekdays = pd.read_csv('/kaggle/input/airbnb-prices-in-european-cities/paris_weekdays.csv')\n",
    "paris_weekends = pd.read_csv('/kaggle/input/airbnb-prices-in-european-cities/paris_weekends.csv')\n",
    "rome_weekdays = pd.read_csv('/kaggle/input/airbnb-prices-in-european-cities/rome_weekdays.csv')\n",
    "rome_weekends = pd.read_csv('/kaggle/input/airbnb-prices-in-european-cities/rome_weekends.csv')\n",
    "vienna_weekdays = pd.read_csv('/kaggle/input/airbnb-prices-in-european-cities/vienna_weekdays.csv')\n",
    "vienna_weekends = pd.read_csv('/kaggle/input/airbnb-prices-in-european-cities/vienna_weekends.csv')\n",
    "\n",
    "dataframes = [amsterdam_weekdays, amsterdam_weekends, athens_weekdays, athens_weekends, barcelona_weekdays, barcelona_weekends, berlin_weekdays, berlin_weekends, budapest_weekdays, budapest_weekends, lisbon_weekdays, lisbon_weekends, london_weekdays, london_weekends, paris_weekdays, paris_weekends, rome_weekdays, rome_weekends, vienna_weekdays, vienna_weekends]"
   ]
  },
  {
   "cell_type": "code",
   "execution_count": 4,
   "id": "6f7bceec",
   "metadata": {
    "execution": {
     "iopub.execute_input": "2023-03-11T16:47:02.251329Z",
     "iopub.status.busy": "2023-03-11T16:47:02.250909Z",
     "iopub.status.idle": "2023-03-11T16:47:02.266815Z",
     "shell.execute_reply": "2023-03-11T16:47:02.264600Z"
    },
    "papermill": {
     "duration": 0.026855,
     "end_time": "2023-03-11T16:47:02.270116",
     "exception": false,
     "start_time": "2023-03-11T16:47:02.243261",
     "status": "completed"
    },
    "tags": []
   },
   "outputs": [
    {
     "name": "stdout",
     "output_type": "stream",
     "text": [
      "amsterdam_weekdays shape = (1103, 20)\n",
      "amsterdam_weekends shape = (977, 20)\n",
      "athens_weekdays shape = (2653, 20)\n",
      "athens_weekends shape = (2627, 20)\n",
      "barcelona_weekdays shape = (1555, 20)\n",
      "barcelona_weekends shape = (1278, 20)\n",
      "berlin_weekdays shape = (1284, 20)\n",
      "berlin_weekends shape = (1200, 20)\n",
      "budapest_weekdays shape = (2074, 20)\n",
      "budapest_weekends shape = (1948, 20)\n",
      "lisbon_weekdays shape = (2857, 20)\n",
      "lisbon_weekends shape = (2906, 20)\n",
      "london_weekdays shape = (4614, 20)\n",
      "london_weekends shape = (5379, 20)\n",
      "paris_weekdays shape = (3130, 20)\n",
      "paris_weekends shape = (3558, 20)\n",
      "rome_weekdays shape = (4492, 20)\n",
      "rome_weekends shape = (4535, 20)\n",
      "vienna_weekdays shape = (1738, 20)\n",
      "vienna_weekends shape = (1799, 20)\n"
     ]
    }
   ],
   "source": [
    "#Printing the 'shape' or the number os rows and columns of the data.\n",
    "print('amsterdam_weekdays shape = ' + str(amsterdam_weekdays.shape))\n",
    "print('amsterdam_weekends shape = ' + str(amsterdam_weekends.shape))\n",
    "print('athens_weekdays shape = ' + str(athens_weekdays.shape))\n",
    "print('athens_weekends shape = ' + str(athens_weekends.shape))\n",
    "print('barcelona_weekdays shape = ' + str(barcelona_weekdays.shape))\n",
    "print('barcelona_weekends shape = ' + str(barcelona_weekends.shape))\n",
    "print('berlin_weekdays shape = ' + str(berlin_weekdays.shape))\n",
    "print('berlin_weekends shape = ' + str(berlin_weekends.shape))\n",
    "print('budapest_weekdays shape = ' + str(budapest_weekdays.shape))\n",
    "print('budapest_weekends shape = ' + str(budapest_weekends.shape))\n",
    "print('lisbon_weekdays shape = ' + str(lisbon_weekdays.shape))\n",
    "print('lisbon_weekends shape = ' + str(lisbon_weekends.shape))\n",
    "print('london_weekdays shape = ' + str(london_weekdays.shape))\n",
    "print('london_weekends shape = ' + str(london_weekends.shape))\n",
    "print('paris_weekdays shape = ' + str(paris_weekdays.shape))\n",
    "print('paris_weekends shape = ' + str(paris_weekends.shape))\n",
    "print('rome_weekdays shape = ' + str(rome_weekdays.shape))\n",
    "print('rome_weekends shape = ' + str(rome_weekends.shape))\n",
    "print('vienna_weekdays shape = ' + str(vienna_weekdays.shape))\n",
    "print('vienna_weekends shape = ' + str(vienna_weekends.shape))"
   ]
  },
  {
   "cell_type": "code",
   "execution_count": 5,
   "id": "90ca9ab0",
   "metadata": {
    "execution": {
     "iopub.execute_input": "2023-03-11T16:47:02.284022Z",
     "iopub.status.busy": "2023-03-11T16:47:02.283587Z",
     "iopub.status.idle": "2023-03-11T16:47:02.295730Z",
     "shell.execute_reply": "2023-03-11T16:47:02.293702Z"
    },
    "papermill": {
     "duration": 0.024894,
     "end_time": "2023-03-11T16:47:02.300999",
     "exception": false,
     "start_time": "2023-03-11T16:47:02.276105",
     "status": "completed"
    },
    "tags": []
   },
   "outputs": [
    {
     "name": "stdout",
     "output_type": "stream",
     "text": [
      "(1103, 20)\n",
      "Index(['Unnamed: 0', 'realSum', 'room_type', 'room_shared', 'room_private',\n",
      "       'person_capacity', 'host_is_superhost', 'multi', 'biz',\n",
      "       'cleanliness_rating', 'guest_satisfaction_overall', 'bedrooms', 'dist',\n",
      "       'metro_dist', 'attr_index', 'attr_index_norm', 'rest_index',\n",
      "       'rest_index_norm', 'lng', 'lat'],\n",
      "      dtype='object')\n",
      "(977, 20)\n",
      "Index(['Unnamed: 0', 'realSum', 'room_type', 'room_shared', 'room_private',\n",
      "       'person_capacity', 'host_is_superhost', 'multi', 'biz',\n",
      "       'cleanliness_rating', 'guest_satisfaction_overall', 'bedrooms', 'dist',\n",
      "       'metro_dist', 'attr_index', 'attr_index_norm', 'rest_index',\n",
      "       'rest_index_norm', 'lng', 'lat'],\n",
      "      dtype='object')\n",
      "(2653, 20)\n",
      "Index(['Unnamed: 0', 'realSum', 'room_type', 'room_shared', 'room_private',\n",
      "       'person_capacity', 'host_is_superhost', 'multi', 'biz',\n",
      "       'cleanliness_rating', 'guest_satisfaction_overall', 'bedrooms', 'dist',\n",
      "       'metro_dist', 'attr_index', 'attr_index_norm', 'rest_index',\n",
      "       'rest_index_norm', 'lng', 'lat'],\n",
      "      dtype='object')\n",
      "(2627, 20)\n",
      "Index(['Unnamed: 0', 'realSum', 'room_type', 'room_shared', 'room_private',\n",
      "       'person_capacity', 'host_is_superhost', 'multi', 'biz',\n",
      "       'cleanliness_rating', 'guest_satisfaction_overall', 'bedrooms', 'dist',\n",
      "       'metro_dist', 'attr_index', 'attr_index_norm', 'rest_index',\n",
      "       'rest_index_norm', 'lng', 'lat'],\n",
      "      dtype='object')\n",
      "(1555, 20)\n",
      "Index(['Unnamed: 0', 'realSum', 'room_type', 'room_shared', 'room_private',\n",
      "       'person_capacity', 'host_is_superhost', 'multi', 'biz',\n",
      "       'cleanliness_rating', 'guest_satisfaction_overall', 'bedrooms', 'dist',\n",
      "       'metro_dist', 'attr_index', 'attr_index_norm', 'rest_index',\n",
      "       'rest_index_norm', 'lng', 'lat'],\n",
      "      dtype='object')\n",
      "(1278, 20)\n",
      "Index(['Unnamed: 0', 'realSum', 'room_type', 'room_shared', 'room_private',\n",
      "       'person_capacity', 'host_is_superhost', 'multi', 'biz',\n",
      "       'cleanliness_rating', 'guest_satisfaction_overall', 'bedrooms', 'dist',\n",
      "       'metro_dist', 'attr_index', 'attr_index_norm', 'rest_index',\n",
      "       'rest_index_norm', 'lng', 'lat'],\n",
      "      dtype='object')\n",
      "(1284, 20)\n",
      "Index(['Unnamed: 0', 'realSum', 'room_type', 'room_shared', 'room_private',\n",
      "       'person_capacity', 'host_is_superhost', 'multi', 'biz',\n",
      "       'cleanliness_rating', 'guest_satisfaction_overall', 'bedrooms', 'dist',\n",
      "       'metro_dist', 'attr_index', 'attr_index_norm', 'rest_index',\n",
      "       'rest_index_norm', 'lng', 'lat'],\n",
      "      dtype='object')\n",
      "(1200, 20)\n",
      "Index(['Unnamed: 0', 'realSum', 'room_type', 'room_shared', 'room_private',\n",
      "       'person_capacity', 'host_is_superhost', 'multi', 'biz',\n",
      "       'cleanliness_rating', 'guest_satisfaction_overall', 'bedrooms', 'dist',\n",
      "       'metro_dist', 'attr_index', 'attr_index_norm', 'rest_index',\n",
      "       'rest_index_norm', 'lng', 'lat'],\n",
      "      dtype='object')\n",
      "(2074, 20)\n",
      "Index(['Unnamed: 0', 'realSum', 'room_type', 'room_shared', 'room_private',\n",
      "       'person_capacity', 'host_is_superhost', 'multi', 'biz',\n",
      "       'cleanliness_rating', 'guest_satisfaction_overall', 'bedrooms', 'dist',\n",
      "       'metro_dist', 'attr_index', 'attr_index_norm', 'rest_index',\n",
      "       'rest_index_norm', 'lng', 'lat'],\n",
      "      dtype='object')\n",
      "(1948, 20)\n",
      "Index(['Unnamed: 0', 'realSum', 'room_type', 'room_shared', 'room_private',\n",
      "       'person_capacity', 'host_is_superhost', 'multi', 'biz',\n",
      "       'cleanliness_rating', 'guest_satisfaction_overall', 'bedrooms', 'dist',\n",
      "       'metro_dist', 'attr_index', 'attr_index_norm', 'rest_index',\n",
      "       'rest_index_norm', 'lng', 'lat'],\n",
      "      dtype='object')\n",
      "(2857, 20)\n",
      "Index(['Unnamed: 0', 'realSum', 'room_type', 'room_shared', 'room_private',\n",
      "       'person_capacity', 'host_is_superhost', 'multi', 'biz',\n",
      "       'cleanliness_rating', 'guest_satisfaction_overall', 'bedrooms', 'dist',\n",
      "       'metro_dist', 'attr_index', 'attr_index_norm', 'rest_index',\n",
      "       'rest_index_norm', 'lng', 'lat'],\n",
      "      dtype='object')\n",
      "(2906, 20)\n",
      "Index(['Unnamed: 0', 'realSum', 'room_type', 'room_shared', 'room_private',\n",
      "       'person_capacity', 'host_is_superhost', 'multi', 'biz',\n",
      "       'cleanliness_rating', 'guest_satisfaction_overall', 'bedrooms', 'dist',\n",
      "       'metro_dist', 'attr_index', 'attr_index_norm', 'rest_index',\n",
      "       'rest_index_norm', 'lng', 'lat'],\n",
      "      dtype='object')\n",
      "(4614, 20)\n",
      "Index(['Unnamed: 0', 'realSum', 'room_type', 'room_shared', 'room_private',\n",
      "       'person_capacity', 'host_is_superhost', 'multi', 'biz',\n",
      "       'cleanliness_rating', 'guest_satisfaction_overall', 'bedrooms', 'dist',\n",
      "       'metro_dist', 'attr_index', 'attr_index_norm', 'rest_index',\n",
      "       'rest_index_norm', 'lng', 'lat'],\n",
      "      dtype='object')\n",
      "(5379, 20)\n",
      "Index(['Unnamed: 0', 'realSum', 'room_type', 'room_shared', 'room_private',\n",
      "       'person_capacity', 'host_is_superhost', 'multi', 'biz',\n",
      "       'cleanliness_rating', 'guest_satisfaction_overall', 'bedrooms', 'dist',\n",
      "       'metro_dist', 'attr_index', 'attr_index_norm', 'rest_index',\n",
      "       'rest_index_norm', 'lng', 'lat'],\n",
      "      dtype='object')\n",
      "(3130, 20)\n",
      "Index(['Unnamed: 0', 'realSum', 'room_type', 'room_shared', 'room_private',\n",
      "       'person_capacity', 'host_is_superhost', 'multi', 'biz',\n",
      "       'cleanliness_rating', 'guest_satisfaction_overall', 'bedrooms', 'dist',\n",
      "       'metro_dist', 'attr_index', 'attr_index_norm', 'rest_index',\n",
      "       'rest_index_norm', 'lng', 'lat'],\n",
      "      dtype='object')\n",
      "(3558, 20)\n",
      "Index(['Unnamed: 0', 'realSum', 'room_type', 'room_shared', 'room_private',\n",
      "       'person_capacity', 'host_is_superhost', 'multi', 'biz',\n",
      "       'cleanliness_rating', 'guest_satisfaction_overall', 'bedrooms', 'dist',\n",
      "       'metro_dist', 'attr_index', 'attr_index_norm', 'rest_index',\n",
      "       'rest_index_norm', 'lng', 'lat'],\n",
      "      dtype='object')\n",
      "(4492, 20)\n",
      "Index(['Unnamed: 0', 'realSum', 'room_type', 'room_shared', 'room_private',\n",
      "       'person_capacity', 'host_is_superhost', 'multi', 'biz',\n",
      "       'cleanliness_rating', 'guest_satisfaction_overall', 'bedrooms', 'dist',\n",
      "       'metro_dist', 'attr_index', 'attr_index_norm', 'rest_index',\n",
      "       'rest_index_norm', 'lng', 'lat'],\n",
      "      dtype='object')\n",
      "(4535, 20)\n",
      "Index(['Unnamed: 0', 'realSum', 'room_type', 'room_shared', 'room_private',\n",
      "       'person_capacity', 'host_is_superhost', 'multi', 'biz',\n",
      "       'cleanliness_rating', 'guest_satisfaction_overall', 'bedrooms', 'dist',\n",
      "       'metro_dist', 'attr_index', 'attr_index_norm', 'rest_index',\n",
      "       'rest_index_norm', 'lng', 'lat'],\n",
      "      dtype='object')\n",
      "(1738, 20)\n",
      "Index(['Unnamed: 0', 'realSum', 'room_type', 'room_shared', 'room_private',\n",
      "       'person_capacity', 'host_is_superhost', 'multi', 'biz',\n",
      "       'cleanliness_rating', 'guest_satisfaction_overall', 'bedrooms', 'dist',\n",
      "       'metro_dist', 'attr_index', 'attr_index_norm', 'rest_index',\n",
      "       'rest_index_norm', 'lng', 'lat'],\n",
      "      dtype='object')\n",
      "(1799, 20)\n",
      "Index(['Unnamed: 0', 'realSum', 'room_type', 'room_shared', 'room_private',\n",
      "       'person_capacity', 'host_is_superhost', 'multi', 'biz',\n",
      "       'cleanliness_rating', 'guest_satisfaction_overall', 'bedrooms', 'dist',\n",
      "       'metro_dist', 'attr_index', 'attr_index_norm', 'rest_index',\n",
      "       'rest_index_norm', 'lng', 'lat'],\n",
      "      dtype='object')\n"
     ]
    }
   ],
   "source": [
    "#Showing all headers of the flat dataset\n",
    "for df in dataframes:\n",
    "    print(df.shape)\n",
    "    print(df.columns)\n"
   ]
  },
  {
   "cell_type": "code",
   "execution_count": 6,
   "id": "d1b28cc8",
   "metadata": {
    "execution": {
     "iopub.execute_input": "2023-03-11T16:47:02.316217Z",
     "iopub.status.busy": "2023-03-11T16:47:02.315063Z",
     "iopub.status.idle": "2023-03-11T16:47:02.322548Z",
     "shell.execute_reply": "2023-03-11T16:47:02.321512Z"
    },
    "papermill": {
     "duration": 0.017745,
     "end_time": "2023-03-11T16:47:02.325182",
     "exception": false,
     "start_time": "2023-03-11T16:47:02.307437",
     "status": "completed"
    },
    "tags": []
   },
   "outputs": [],
   "source": [
    "#defining 'combine' to be a function to concat two csv files into one\n",
    "def combine(csv_1,col_1,csv_2,col_2,city):       \n",
    "    csv_1['week time'] = col_1\n",
    "    csv_2['week time'] = col_2\n",
    "    csv_1.drop(columns = ['Unnamed: 0'],inplace=True)\n",
    "    csv_2.drop(columns = ['Unnamed: 0'],inplace=True)\n",
    "    merged = pd.concat([csv_1, csv_2])\n",
    "    merged['city'] = city\n",
    "    return merged"
   ]
  },
  {
   "cell_type": "code",
   "execution_count": 7,
   "id": "55716ede",
   "metadata": {
    "execution": {
     "iopub.execute_input": "2023-03-11T16:47:02.339661Z",
     "iopub.status.busy": "2023-03-11T16:47:02.339258Z",
     "iopub.status.idle": "2023-03-11T16:47:02.455746Z",
     "shell.execute_reply": "2023-03-11T16:47:02.454667Z"
    },
    "papermill": {
     "duration": 0.128213,
     "end_time": "2023-03-11T16:47:02.459696",
     "exception": false,
     "start_time": "2023-03-11T16:47:02.331483",
     "status": "completed"
    },
    "tags": []
   },
   "outputs": [],
   "source": [
    "amsterdam = combine(amsterdam_weekdays,'weekdays',amsterdam_weekends,'weekends','amsterdam')\n",
    "athens = combine(athens_weekdays,'weekdays',athens_weekends,'weekends','athens')\n",
    "barcelona = combine(barcelona_weekdays,'weekdays',barcelona_weekends,'weekends','barcelona')\n",
    "berlin = combine(berlin_weekdays,'weekdays',berlin_weekends,'weekends','berlin')\n",
    "budapest = combine(budapest_weekdays,'weekdays',budapest_weekends,'weekends','budapest')\n",
    "lisbon = combine(lisbon_weekdays,'weekdays',lisbon_weekends,'weekends','lisbon')\n",
    "london = combine(london_weekdays,'weekdays',london_weekends,'weekends','london')\n",
    "paris = combine(paris_weekdays,'weekdays',paris_weekends,'weekends','paris')\n",
    "rome = combine(rome_weekdays,'weekdays',rome_weekends,'weekends','rome')\n",
    "vienna = combine(vienna_weekdays,'weekdays',vienna_weekends,'weekends','vienna')\n",
    "\n",
    "cities_names = ['amsterdam', 'athens', 'barcelona', 'berlin', 'budapest', 'lisbon', 'london', 'paris', 'rome', 'vienna']\n",
    "cities = [amsterdam, athens, barcelona, berlin, budapest, lisbon, london, paris, rome, vienna]\n",
    "cities_data = pd.concat(cities, ignore_index=True) "
   ]
  },
  {
   "cell_type": "code",
   "execution_count": 8,
   "id": "70520d09",
   "metadata": {
    "execution": {
     "iopub.execute_input": "2023-03-11T16:47:02.476792Z",
     "iopub.status.busy": "2023-03-11T16:47:02.476044Z",
     "iopub.status.idle": "2023-03-11T16:47:02.514022Z",
     "shell.execute_reply": "2023-03-11T16:47:02.512618Z"
    },
    "papermill": {
     "duration": 0.048962,
     "end_time": "2023-03-11T16:47:02.516779",
     "exception": false,
     "start_time": "2023-03-11T16:47:02.467817",
     "status": "completed"
    },
    "tags": []
   },
   "outputs": [
    {
     "data": {
      "text/plain": [
       "realSum                       0\n",
       "room_type                     0\n",
       "room_shared                   0\n",
       "room_private                  0\n",
       "person_capacity               0\n",
       "host_is_superhost             0\n",
       "multi                         0\n",
       "biz                           0\n",
       "cleanliness_rating            0\n",
       "guest_satisfaction_overall    0\n",
       "bedrooms                      0\n",
       "dist                          0\n",
       "metro_dist                    0\n",
       "attr_index                    0\n",
       "attr_index_norm               0\n",
       "rest_index                    0\n",
       "rest_index_norm               0\n",
       "lng                           0\n",
       "lat                           0\n",
       "week time                     0\n",
       "city                          0\n",
       "dtype: int64"
      ]
     },
     "execution_count": 8,
     "metadata": {},
     "output_type": "execute_result"
    }
   ],
   "source": [
    "europe_data = pd.concat(cities, ignore_index=True) \n",
    "cities_data.isna().sum()"
   ]
  },
  {
   "cell_type": "code",
   "execution_count": 9,
   "id": "4e8961c6",
   "metadata": {
    "execution": {
     "iopub.execute_input": "2023-03-11T16:47:02.532717Z",
     "iopub.status.busy": "2023-03-11T16:47:02.531891Z",
     "iopub.status.idle": "2023-03-11T16:47:02.653332Z",
     "shell.execute_reply": "2023-03-11T16:47:02.652140Z"
    },
    "papermill": {
     "duration": 0.132115,
     "end_time": "2023-03-11T16:47:02.655752",
     "exception": false,
     "start_time": "2023-03-11T16:47:02.523637",
     "status": "completed"
    },
    "tags": []
   },
   "outputs": [
    {
     "data": {
      "text/html": [
       "<div>\n",
       "<style scoped>\n",
       "    .dataframe tbody tr th:only-of-type {\n",
       "        vertical-align: middle;\n",
       "    }\n",
       "\n",
       "    .dataframe tbody tr th {\n",
       "        vertical-align: top;\n",
       "    }\n",
       "\n",
       "    .dataframe thead th {\n",
       "        text-align: right;\n",
       "    }\n",
       "</style>\n",
       "<table border=\"1\" class=\"dataframe\">\n",
       "  <thead>\n",
       "    <tr style=\"text-align: right;\">\n",
       "      <th></th>\n",
       "      <th>realSum</th>\n",
       "      <th>person_capacity</th>\n",
       "      <th>multi</th>\n",
       "      <th>biz</th>\n",
       "      <th>cleanliness_rating</th>\n",
       "      <th>guest_satisfaction_overall</th>\n",
       "      <th>bedrooms</th>\n",
       "      <th>dist</th>\n",
       "      <th>metro_dist</th>\n",
       "      <th>attr_index</th>\n",
       "      <th>attr_index_norm</th>\n",
       "      <th>rest_index</th>\n",
       "      <th>rest_index_norm</th>\n",
       "      <th>lng</th>\n",
       "      <th>lat</th>\n",
       "    </tr>\n",
       "  </thead>\n",
       "  <tbody>\n",
       "    <tr>\n",
       "      <th>count</th>\n",
       "      <td>51707.000000</td>\n",
       "      <td>51707.000000</td>\n",
       "      <td>51707.000000</td>\n",
       "      <td>51707.000000</td>\n",
       "      <td>51707.000000</td>\n",
       "      <td>51707.000000</td>\n",
       "      <td>51707.00000</td>\n",
       "      <td>51707.000000</td>\n",
       "      <td>51707.000000</td>\n",
       "      <td>51707.000000</td>\n",
       "      <td>51707.000000</td>\n",
       "      <td>51707.000000</td>\n",
       "      <td>51707.000000</td>\n",
       "      <td>51707.000000</td>\n",
       "      <td>51707.000000</td>\n",
       "    </tr>\n",
       "    <tr>\n",
       "      <th>mean</th>\n",
       "      <td>279.879591</td>\n",
       "      <td>3.161661</td>\n",
       "      <td>0.291353</td>\n",
       "      <td>0.350204</td>\n",
       "      <td>9.390624</td>\n",
       "      <td>92.628232</td>\n",
       "      <td>1.15876</td>\n",
       "      <td>3.191285</td>\n",
       "      <td>0.681540</td>\n",
       "      <td>294.204105</td>\n",
       "      <td>13.423792</td>\n",
       "      <td>626.856696</td>\n",
       "      <td>22.786177</td>\n",
       "      <td>7.426068</td>\n",
       "      <td>45.671128</td>\n",
       "    </tr>\n",
       "    <tr>\n",
       "      <th>std</th>\n",
       "      <td>327.948386</td>\n",
       "      <td>1.298545</td>\n",
       "      <td>0.454390</td>\n",
       "      <td>0.477038</td>\n",
       "      <td>0.954868</td>\n",
       "      <td>8.945531</td>\n",
       "      <td>0.62741</td>\n",
       "      <td>2.393803</td>\n",
       "      <td>0.858023</td>\n",
       "      <td>224.754123</td>\n",
       "      <td>9.807985</td>\n",
       "      <td>497.920226</td>\n",
       "      <td>17.804096</td>\n",
       "      <td>9.799725</td>\n",
       "      <td>5.249263</td>\n",
       "    </tr>\n",
       "    <tr>\n",
       "      <th>min</th>\n",
       "      <td>34.779339</td>\n",
       "      <td>2.000000</td>\n",
       "      <td>0.000000</td>\n",
       "      <td>0.000000</td>\n",
       "      <td>2.000000</td>\n",
       "      <td>20.000000</td>\n",
       "      <td>0.00000</td>\n",
       "      <td>0.015045</td>\n",
       "      <td>0.002301</td>\n",
       "      <td>15.152201</td>\n",
       "      <td>0.926301</td>\n",
       "      <td>19.576924</td>\n",
       "      <td>0.592757</td>\n",
       "      <td>-9.226340</td>\n",
       "      <td>37.953000</td>\n",
       "    </tr>\n",
       "    <tr>\n",
       "      <th>25%</th>\n",
       "      <td>148.752174</td>\n",
       "      <td>2.000000</td>\n",
       "      <td>0.000000</td>\n",
       "      <td>0.000000</td>\n",
       "      <td>9.000000</td>\n",
       "      <td>90.000000</td>\n",
       "      <td>1.00000</td>\n",
       "      <td>1.453142</td>\n",
       "      <td>0.248480</td>\n",
       "      <td>136.797385</td>\n",
       "      <td>6.380926</td>\n",
       "      <td>250.854114</td>\n",
       "      <td>8.751480</td>\n",
       "      <td>-0.072500</td>\n",
       "      <td>41.399510</td>\n",
       "    </tr>\n",
       "    <tr>\n",
       "      <th>50%</th>\n",
       "      <td>211.343089</td>\n",
       "      <td>3.000000</td>\n",
       "      <td>0.000000</td>\n",
       "      <td>0.000000</td>\n",
       "      <td>10.000000</td>\n",
       "      <td>95.000000</td>\n",
       "      <td>1.00000</td>\n",
       "      <td>2.613538</td>\n",
       "      <td>0.413269</td>\n",
       "      <td>234.331748</td>\n",
       "      <td>11.468305</td>\n",
       "      <td>522.052783</td>\n",
       "      <td>17.542238</td>\n",
       "      <td>4.873000</td>\n",
       "      <td>47.506690</td>\n",
       "    </tr>\n",
       "    <tr>\n",
       "      <th>75%</th>\n",
       "      <td>319.694287</td>\n",
       "      <td>4.000000</td>\n",
       "      <td>1.000000</td>\n",
       "      <td>1.000000</td>\n",
       "      <td>10.000000</td>\n",
       "      <td>99.000000</td>\n",
       "      <td>1.00000</td>\n",
       "      <td>4.263077</td>\n",
       "      <td>0.737840</td>\n",
       "      <td>385.756381</td>\n",
       "      <td>17.415082</td>\n",
       "      <td>832.628988</td>\n",
       "      <td>32.964603</td>\n",
       "      <td>13.518825</td>\n",
       "      <td>51.471885</td>\n",
       "    </tr>\n",
       "    <tr>\n",
       "      <th>max</th>\n",
       "      <td>18545.450285</td>\n",
       "      <td>6.000000</td>\n",
       "      <td>1.000000</td>\n",
       "      <td>1.000000</td>\n",
       "      <td>10.000000</td>\n",
       "      <td>100.000000</td>\n",
       "      <td>10.00000</td>\n",
       "      <td>25.284557</td>\n",
       "      <td>14.273577</td>\n",
       "      <td>4513.563486</td>\n",
       "      <td>100.000000</td>\n",
       "      <td>6696.156772</td>\n",
       "      <td>100.000000</td>\n",
       "      <td>23.786020</td>\n",
       "      <td>52.641410</td>\n",
       "    </tr>\n",
       "  </tbody>\n",
       "</table>\n",
       "</div>"
      ],
      "text/plain": [
       "            realSum  person_capacity         multi           biz  \\\n",
       "count  51707.000000     51707.000000  51707.000000  51707.000000   \n",
       "mean     279.879591         3.161661      0.291353      0.350204   \n",
       "std      327.948386         1.298545      0.454390      0.477038   \n",
       "min       34.779339         2.000000      0.000000      0.000000   \n",
       "25%      148.752174         2.000000      0.000000      0.000000   \n",
       "50%      211.343089         3.000000      0.000000      0.000000   \n",
       "75%      319.694287         4.000000      1.000000      1.000000   \n",
       "max    18545.450285         6.000000      1.000000      1.000000   \n",
       "\n",
       "       cleanliness_rating  guest_satisfaction_overall     bedrooms  \\\n",
       "count        51707.000000                51707.000000  51707.00000   \n",
       "mean             9.390624                   92.628232      1.15876   \n",
       "std              0.954868                    8.945531      0.62741   \n",
       "min              2.000000                   20.000000      0.00000   \n",
       "25%              9.000000                   90.000000      1.00000   \n",
       "50%             10.000000                   95.000000      1.00000   \n",
       "75%             10.000000                   99.000000      1.00000   \n",
       "max             10.000000                  100.000000     10.00000   \n",
       "\n",
       "               dist    metro_dist    attr_index  attr_index_norm  \\\n",
       "count  51707.000000  51707.000000  51707.000000     51707.000000   \n",
       "mean       3.191285      0.681540    294.204105        13.423792   \n",
       "std        2.393803      0.858023    224.754123         9.807985   \n",
       "min        0.015045      0.002301     15.152201         0.926301   \n",
       "25%        1.453142      0.248480    136.797385         6.380926   \n",
       "50%        2.613538      0.413269    234.331748        11.468305   \n",
       "75%        4.263077      0.737840    385.756381        17.415082   \n",
       "max       25.284557     14.273577   4513.563486       100.000000   \n",
       "\n",
       "         rest_index  rest_index_norm           lng           lat  \n",
       "count  51707.000000     51707.000000  51707.000000  51707.000000  \n",
       "mean     626.856696        22.786177      7.426068     45.671128  \n",
       "std      497.920226        17.804096      9.799725      5.249263  \n",
       "min       19.576924         0.592757     -9.226340     37.953000  \n",
       "25%      250.854114         8.751480     -0.072500     41.399510  \n",
       "50%      522.052783        17.542238      4.873000     47.506690  \n",
       "75%      832.628988        32.964603     13.518825     51.471885  \n",
       "max     6696.156772       100.000000     23.786020     52.641410  "
      ]
     },
     "execution_count": 9,
     "metadata": {},
     "output_type": "execute_result"
    }
   ],
   "source": [
    "#Showing important data in the data\n",
    "cities_data.describe()"
   ]
  },
  {
   "cell_type": "markdown",
   "id": "2f431c69",
   "metadata": {
    "papermill": {
     "duration": 0.007166,
     "end_time": "2023-03-11T16:47:02.670495",
     "exception": false,
     "start_time": "2023-03-11T16:47:02.663329",
     "status": "completed"
    },
    "tags": []
   },
   "source": [
    "# **1. Comaprison in room types**"
   ]
  },
  {
   "cell_type": "code",
   "execution_count": 10,
   "id": "f864fcd6",
   "metadata": {
    "execution": {
     "iopub.execute_input": "2023-03-11T16:47:02.689500Z",
     "iopub.status.busy": "2023-03-11T16:47:02.689060Z",
     "iopub.status.idle": "2023-03-11T16:47:03.216116Z",
     "shell.execute_reply": "2023-03-11T16:47:03.214618Z"
    },
    "papermill": {
     "duration": 0.541761,
     "end_time": "2023-03-11T16:47:03.219445",
     "exception": false,
     "start_time": "2023-03-11T16:47:02.677684",
     "status": "completed"
    },
    "tags": []
   },
   "outputs": [
    {
     "data": {
      "image/png": "[encoded data removed]",
      "text/plain": [
       "<Figure size 640x480 with 1 Axes>"
      ]
     },
     "metadata": {},
     "output_type": "display_data"
    }
   ],
   "source": [
    "# Group by room type and calculate the frequency count for each city\n",
    "room_type_counts = cities_data.groupby(['city', 'room_type']).size().reset_index(name='count')\n",
    "\n",
    "# Sort the counts in descending order\n",
    "room_type_counts = room_type_counts.sort_values(by='count', ascending=False)\n",
    "\n",
    "# Create a scatter plot of room type frequencies\n",
    "sns.set(style='whitegrid')\n",
    "sns.scatterplot(x='room_type', y='count', data=room_type_counts, hue='city', s=100)\n",
    "\n",
    "# Add axis labels and title\n",
    "plt.xlabel('Room Type')\n",
    "plt.ylabel('Frequency Count')\n",
    "plt.title('Room Type Frequencies Across Cities')\n",
    "\n",
    "# Add legend\n",
    "plt.legend(title='City', bbox_to_anchor=(1.05, 1), loc='upper left')\n",
    "\n",
    "# Show the plot\n",
    "plt.show()\n"
   ]
  },
  {
   "cell_type": "code",
   "execution_count": 11,
   "id": "418d9300",
   "metadata": {
    "execution": {
     "iopub.execute_input": "2023-03-11T16:47:03.237640Z",
     "iopub.status.busy": "2023-03-11T16:47:03.237236Z",
     "iopub.status.idle": "2023-03-11T16:47:03.654180Z",
     "shell.execute_reply": "2023-03-11T16:47:03.652621Z"
    },
    "papermill": {
     "duration": 0.429486,
     "end_time": "2023-03-11T16:47:03.657412",
     "exception": false,
     "start_time": "2023-03-11T16:47:03.227926",
     "status": "completed"
    },
    "tags": []
   },
   "outputs": [
    {
     "data": {
      "image/png": "[encoded data removed]",
      "text/plain": [
       "<Figure size 800x600 with 1 Axes>"
      ]
     },
     "metadata": {},
     "output_type": "display_data"
    }
   ],
   "source": [
    "# Group the data by city and calculate the mean and median prices\n",
    "city_prices = cities_data.groupby('city')['realSum'].describe()[['mean', '50%']]\n",
    "city_prices = city_prices.reset_index()\n",
    "\n",
    "#Capitalise the labels of x-axis\n",
    "city_prices['city'] = city_prices['city'].str.capitalize()\n",
    "\n",
    "# Set the size of the figure\n",
    "plt.figure(figsize=(8, 6))\n",
    "\n",
    "# Plot the bar plot using seaborn\n",
    "sns.set(style='whitegrid')\n",
    "sns.barplot(x='city', y='mean', data=city_prices, color='steelblue', label='Mean Price')\n",
    "sns.barplot(x='city', y='50%', data=city_prices, color='lightblue', label='Median Price')\n",
    "\n",
    "# Add axis labels and title\n",
    "plt.xlabel('City')\n",
    "plt.ylabel('Price')\n",
    "plt.title('Mean and Median Prices by City')\n",
    "\n",
    "# Rotate the x-tick labels\n",
    "plt.xticks(rotation=45, ha='right')\n",
    "\n",
    "# Add a legend\n",
    "plt.legend()\n",
    "\n",
    "# Show the plot\n",
    "plt.show()\n"
   ]
  },
  {
   "cell_type": "markdown",
   "id": "ec6c8992",
   "metadata": {
    "papermill": {
     "duration": 0.009159,
     "end_time": "2023-03-11T16:47:03.675431",
     "exception": false,
     "start_time": "2023-03-11T16:47:03.666272",
     "status": "completed"
    },
    "tags": []
   },
   "source": [
    "# **2. Superhosts**"
   ]
  },
  {
   "cell_type": "code",
   "execution_count": 12,
   "id": "6b0fd838",
   "metadata": {
    "execution": {
     "iopub.execute_input": "2023-03-11T16:47:03.695289Z",
     "iopub.status.busy": "2023-03-11T16:47:03.694884Z",
     "iopub.status.idle": "2023-03-11T16:47:03.716068Z",
     "shell.execute_reply": "2023-03-11T16:47:03.714598Z"
    },
    "papermill": {
     "duration": 0.034558,
     "end_time": "2023-03-11T16:47:03.718776",
     "exception": false,
     "start_time": "2023-03-11T16:47:03.684218",
     "status": "completed"
    },
    "tags": []
   },
   "outputs": [
    {
     "name": "stdout",
     "output_type": "stream",
     "text": [
      "Proportion of superhosts: False    0.744097\n",
      "True     0.255903\n",
      "Name: host_is_superhost, dtype: float64\n",
      "Mean guest satisfaction by room type:\n",
      "room_type\n",
      "Entire home/apt    92.888691\n",
      "Private room       92.231156\n",
      "Shared room        89.674863\n",
      "Name: guest_satisfaction_overall, dtype: float64\n"
     ]
    }
   ],
   "source": [
    "# Calculate the proportion of superhosts\n",
    "superhost_proportion = cities_data['host_is_superhost'].value_counts(normalize=True)\n",
    "\n",
    "print(f\"Proportion of superhosts: {superhost_proportion}\")\n",
    "\n",
    "# Calculate the mean guest satisfaction rating for each accommodation type\n",
    "mean_satisfaction_by_room_type = cities_data.groupby('room_type')['guest_satisfaction_overall'].mean()\n",
    "\n",
    "print(f\"Mean guest satisfaction by room type:\\n{mean_satisfaction_by_room_type}\")"
   ]
  },
  {
   "cell_type": "markdown",
   "id": "d0446545",
   "metadata": {
    "papermill": {
     "duration": 0.00825,
     "end_time": "2023-03-11T16:47:03.735820",
     "exception": false,
     "start_time": "2023-03-11T16:47:03.727570",
     "status": "completed"
    },
    "tags": []
   },
   "source": [
    "# **3. Pricing - Regression**"
   ]
  },
  {
   "cell_type": "code",
   "execution_count": 13,
   "id": "517cf32b",
   "metadata": {
    "execution": {
     "iopub.execute_input": "2023-03-11T16:47:03.756460Z",
     "iopub.status.busy": "2023-03-11T16:47:03.755283Z",
     "iopub.status.idle": "2023-03-11T16:47:03.877203Z",
     "shell.execute_reply": "2023-03-11T16:47:03.875324Z"
    },
    "papermill": {
     "duration": 0.1349,
     "end_time": "2023-03-11T16:47:03.879959",
     "exception": false,
     "start_time": "2023-03-11T16:47:03.745059",
     "status": "completed"
    },
    "tags": []
   },
   "outputs": [
    {
     "name": "stdout",
     "output_type": "stream",
     "text": [
      "realSum                       0\n",
      "room_type                     0\n",
      "room_shared                   0\n",
      "room_private                  0\n",
      "person_capacity               0\n",
      "host_is_superhost             0\n",
      "multi                         0\n",
      "biz                           0\n",
      "cleanliness_rating            0\n",
      "guest_satisfaction_overall    0\n",
      "bedrooms                      0\n",
      "dist                          0\n",
      "metro_dist                    0\n",
      "attr_index                    0\n",
      "attr_index_norm               0\n",
      "rest_index                    0\n",
      "rest_index_norm               0\n",
      "lng                           0\n",
      "lat                           0\n",
      "week time                     0\n",
      "city                          0\n",
      "dtype: int64\n",
      "            realSum  person_capacity         multi           biz  \\\n",
      "count  51707.000000     51707.000000  51707.000000  51707.000000   \n",
      "mean     279.879591         3.161661      0.291353      0.350204   \n",
      "std      327.948386         1.298545      0.454390      0.477038   \n",
      "min       34.779339         2.000000      0.000000      0.000000   \n",
      "25%      148.752174         2.000000      0.000000      0.000000   \n",
      "50%      211.343089         3.000000      0.000000      0.000000   \n",
      "75%      319.694287         4.000000      1.000000      1.000000   \n",
      "max    18545.450285         6.000000      1.000000      1.000000   \n",
      "\n",
      "       cleanliness_rating  guest_satisfaction_overall     bedrooms  \\\n",
      "count        51707.000000                51707.000000  51707.00000   \n",
      "mean             9.390624                   92.628232      1.15876   \n",
      "std              0.954868                    8.945531      0.62741   \n",
      "min              2.000000                   20.000000      0.00000   \n",
      "25%              9.000000                   90.000000      1.00000   \n",
      "50%             10.000000                   95.000000      1.00000   \n",
      "75%             10.000000                   99.000000      1.00000   \n",
      "max             10.000000                  100.000000     10.00000   \n",
      "\n",
      "               dist    metro_dist    attr_index  attr_index_norm  \\\n",
      "count  51707.000000  51707.000000  51707.000000     51707.000000   \n",
      "mean       3.191285      0.681540    294.204105        13.423792   \n",
      "std        2.393803      0.858023    224.754123         9.807985   \n",
      "min        0.015045      0.002301     15.152201         0.926301   \n",
      "25%        1.453142      0.248480    136.797385         6.380926   \n",
      "50%        2.613538      0.413269    234.331748        11.468305   \n",
      "75%        4.263077      0.737840    385.756381        17.415082   \n",
      "max       25.284557     14.273577   4513.563486       100.000000   \n",
      "\n",
      "         rest_index  rest_index_norm           lng           lat  \n",
      "count  51707.000000     51707.000000  51707.000000  51707.000000  \n",
      "mean     626.856696        22.786177      7.426068     45.671128  \n",
      "std      497.920226        17.804096      9.799725      5.249263  \n",
      "min       19.576924         0.592757     -9.226340     37.953000  \n",
      "25%      250.854114         8.751480     -0.072500     41.399510  \n",
      "50%      522.052783        17.542238      4.873000     47.506690  \n",
      "75%      832.628988        32.964603     13.518825     51.471885  \n",
      "max     6696.156772       100.000000     23.786020     52.641410  \n"
     ]
    }
   ],
   "source": [
    "# check for missing values\n",
    "print(cities_data.isnull().sum())\n",
    "\n",
    "# remove rows with missing values\n",
    "cities_data.dropna(inplace=True)\n",
    "\n",
    "# check for erroneous values\n",
    "print(cities_data.describe())\n",
    "\n",
    "# remove any outliers or erroneous values\n",
    "# (e.g., prices that are too high or too low)\n",
    "# calculate the IQR\n",
    "Q1 = cities_data['realSum'].quantile(0.25)\n",
    "Q3 = cities_data['realSum'].quantile(0.75)\n",
    "IQR = Q3 - Q1\n",
    "\n",
    "# remove outliers\n",
    "cities_data = cities_data[(cities_data['realSum'] >= Q1 - 1.5*IQR) & (cities_data['realSum'] <= Q3 + 1.5*IQR)]\n"
   ]
  },
  {
   "cell_type": "code",
   "execution_count": 14,
   "id": "b73400e6",
   "metadata": {
    "execution": {
     "iopub.execute_input": "2023-03-11T16:47:03.900210Z",
     "iopub.status.busy": "2023-03-11T16:47:03.899795Z",
     "iopub.status.idle": "2023-03-11T16:47:04.212281Z",
     "shell.execute_reply": "2023-03-11T16:47:04.211273Z"
    },
    "papermill": {
     "duration": 0.326665,
     "end_time": "2023-03-11T16:47:04.215661",
     "exception": false,
     "start_time": "2023-03-11T16:47:03.888996",
     "status": "completed"
    },
    "tags": []
   },
   "outputs": [
    {
     "data": {
      "image/png": "[encoded data removed]",
      "text/plain": [
       "<Figure size 640x480 with 1 Axes>"
      ]
     },
     "metadata": {},
     "output_type": "display_data"
    }
   ],
   "source": [
    "# calculate descriptive statistics\n",
    "mean_price = cities_data['realSum'].mean()\n",
    "median_price = cities_data['realSum'].median()\n",
    "std_price = cities_data['realSum'].std()\n",
    "\n",
    "#show through histogram\n",
    "plt.hist(cities_data['realSum'], bins=20)\n",
    "plt.xlabel('Price')\n",
    "plt.ylabel('Frequency')\n",
    "plt.show()"
   ]
  },
  {
   "cell_type": "code",
   "execution_count": 15,
   "id": "935bc0a0",
   "metadata": {
    "execution": {
     "iopub.execute_input": "2023-03-11T16:47:04.245504Z",
     "iopub.status.busy": "2023-03-11T16:47:04.244350Z",
     "iopub.status.idle": "2023-03-11T16:47:04.308060Z",
     "shell.execute_reply": "2023-03-11T16:47:04.306451Z"
    },
    "papermill": {
     "duration": 0.081314,
     "end_time": "2023-03-11T16:47:04.310697",
     "exception": false,
     "start_time": "2023-03-11T16:47:04.229383",
     "status": "completed"
    },
    "tags": []
   },
   "outputs": [
    {
     "name": "stdout",
     "output_type": "stream",
     "text": [
      "There is a significant difference in prices between the cities\n"
     ]
    }
   ],
   "source": [
    "from scipy.stats import f_oneway\n",
    "\n",
    "# conduct an ANOVA test to determine if there are significant differences in prices between the cities\n",
    "city1 = cities_data[cities_data['city'] == cities_names[0]]['realSum']\n",
    "city2 = cities_data[cities_data['city'] == cities_names[1]]['realSum']\n",
    "city3 = cities_data[cities_data['city'] == cities_names[2]]['realSum']\n",
    "city4 = cities_data[cities_data['city'] == cities_names[3]]['realSum']\n",
    "city5 = cities_data[cities_data['city'] == cities_names[4]]['realSum']\n",
    "city6 = cities_data[cities_data['city'] == cities_names[5]]['realSum']\n",
    "city7 = cities_data[cities_data['city'] == cities_names[6]]['realSum']\n",
    "city8 = cities_data[cities_data['city'] == cities_names[7]]['realSum']\n",
    "city9 = cities_data[cities_data['city'] == cities_names[8]]['realSum']\n",
    "city10 = cities_data[cities_data['city'] == cities_names[9]]['realSum']\n",
    "\n",
    "f_statistic, p_value = f_oneway(city1, city2, city3, city4, city5, city6, city7, city8, city9, city10)\n",
    "if p_value < 0.05:\n",
    "    print('There is a significant difference in prices between the cities')\n",
    "else:\n",
    "    print('There is no significant difference in prices between the cities')"
   ]
  },
  {
   "cell_type": "code",
   "execution_count": 16,
   "id": "cf065aa6",
   "metadata": {
    "execution": {
     "iopub.execute_input": "2023-03-11T16:47:04.334284Z",
     "iopub.status.busy": "2023-03-11T16:47:04.333268Z",
     "iopub.status.idle": "2023-03-11T16:47:04.861218Z",
     "shell.execute_reply": "2023-03-11T16:47:04.859800Z"
    },
    "papermill": {
     "duration": 0.544739,
     "end_time": "2023-03-11T16:47:04.864935",
     "exception": false,
     "start_time": "2023-03-11T16:47:04.320196",
     "status": "completed"
    },
    "tags": []
   },
   "outputs": [
    {
     "data": {
      "image/png": "[encoded data removed]",
      "text/plain": [
       "<Figure size 640x480 with 1 Axes>"
      ]
     },
     "metadata": {},
     "output_type": "display_data"
    },
    {
     "data": {
      "image/png": "[encoded data removed]",
      "text/plain": [
       "<Figure size 640x480 with 1 Axes>"
      ]
     },
     "metadata": {},
     "output_type": "display_data"
    }
   ],
   "source": [
    "import seaborn as sns\n",
    "\n",
    "#Boxplot for the relationship with cleanliness and pricing\n",
    "sns.boxplot(x='room_type', y='realSum', data=df)\n",
    "plt.show()\n",
    "\n",
    "# create a scatter plot to visualize the relationship between\n",
    "# prices and cleanliness ratings\n",
    "plt.scatter(df['cleanliness_rating'], df['realSum'])\n",
    "plt.xlabel('Cleanliness Rating')\n",
    "plt.ylabel('Price')\n",
    "plt.show()\n"
   ]
  },
  {
   "cell_type": "code",
   "execution_count": 17,
   "id": "8b267841",
   "metadata": {
    "execution": {
     "iopub.execute_input": "2023-03-11T16:47:04.890831Z",
     "iopub.status.busy": "2023-03-11T16:47:04.890420Z",
     "iopub.status.idle": "2023-03-11T16:47:06.725757Z",
     "shell.execute_reply": "2023-03-11T16:47:06.724226Z"
    },
    "papermill": {
     "duration": 1.852135,
     "end_time": "2023-03-11T16:47:06.728760",
     "exception": false,
     "start_time": "2023-03-11T16:47:04.876625",
     "status": "completed"
    },
    "tags": []
   },
   "outputs": [
    {
     "name": "stdout",
     "output_type": "stream",
     "text": [
      "                            OLS Regression Results                            \n",
      "==============================================================================\n",
      "Dep. Variable:                realSum   R-squared:                       0.003\n",
      "Model:                            OLS   Adj. R-squared:                  0.002\n",
      "Method:                 Least Squares   F-statistic:                     2.769\n",
      "Date:                Sat, 11 Mar 2023   Prob (F-statistic):             0.0630\n",
      "Time:                        16:47:06   Log-Likelihood:                -13004.\n",
      "No. Observations:                1799   AIC:                         2.601e+04\n",
      "Df Residuals:                    1796   BIC:                         2.603e+04\n",
      "Df Model:                           2                                         \n",
      "Covariance Type:            nonrobust                                         \n",
      "======================================================================================\n",
      "                         coef    std err          t      P>|t|      [0.025      0.975]\n",
      "--------------------------------------------------------------------------------------\n",
      "const                156.8720     87.637      1.790      0.074     -15.009     328.753\n",
      "cleanliness_rating    10.8078      9.190      1.176      0.240      -7.217      28.833\n",
      "metro_dist           -31.9127     15.504     -2.058      0.040     -62.320      -1.505\n",
      "==============================================================================\n",
      "Omnibus:                     5118.161   Durbin-Watson:                   1.992\n",
      "Prob(Omnibus):                  0.000   Jarque-Bera (JB):        159055276.056\n",
      "Skew:                          36.275   Prob(JB):                         0.00\n",
      "Kurtosis:                    1457.872   Cond. No.                         107.\n",
      "==============================================================================\n",
      "\n",
      "Notes:\n",
      "[1] Standard Errors assume that the covariance matrix of the errors is correctly specified.\n",
      "0    167.211989\n",
      "1    151.306705\n",
      "dtype: float64\n"
     ]
    }
   ],
   "source": [
    "#A package needed to run a regression model\n",
    "import statsmodels.api as sm\n",
    "\n",
    "#run regression with variables of metro distance and cleanliness\n",
    "X = df[['cleanliness_rating', 'metro_dist']]\n",
    "y = df['realSum']\n",
    "X = sm.add_constant(X)\n",
    "model = sm.OLS(y, X).fit()\n",
    "print(model.summary())\n",
    "\n",
    "# use the model to make predictions about prices in the future\n",
    "X_new = pd.DataFrame({'cleanliness_rating': [4.5, 4.8],\n",
    "                      'metro_dist': [1.2, 1.8]})\n",
    "X_new = sm.add_constant(X_new)\n",
    "predictions = model.predict(X_new)\n",
    "print(predictions)\n"
   ]
  },
  {
   "cell_type": "markdown",
   "id": "5a50b200",
   "metadata": {
    "papermill": {
     "duration": 0.01025,
     "end_time": "2023-03-11T16:47:06.749622",
     "exception": false,
     "start_time": "2023-03-11T16:47:06.739372",
     "status": "completed"
    },
    "tags": []
   },
   "source": [
    "> **This is the summary output of an OLS (ordinary least squares) linear regression model, which is used to predict rental prices (the dependent variable) based on two independent variables, cleanliness rating and distance to the nearest metro station.\n",
    "> \n",
    "> R-squared: This value represents the proportion of variance in the rental prices that is explained by the independent variables in the model. In this case, the R-squared is very low at 0.003, indicating that the model is not very effective at explaining the variation in rental prices.\n",
    "> \n",
    "> Coefficients: The coefficients represent the estimated effect of each independent variable on rental prices. In this case, the cleanliness rating has a positive coefficient of 10.81, indicating that as cleanliness rating increases, rental prices tend to increase as well. The distance to the nearest metro station has a negative coefficient of -31.91, indicating that as distance to the metro station increases, rental prices tend to decrease.\n",
    "> \n",
    "> P-values: These values indicate the statistical significance of each coefficient, or the likelihood that the observed effect of each independent variable on rental prices is due to chance. In this case, the p-value for cleanliness rating is 0.24, which is not statistically significant at the conventional level of 0.05. The p-value for distance to the metro station is 0.04, which is statistically significant at the 0.05 level.\n",
    "> \n",
    "> Confidence intervals: These values indicate the range of values within which the true coefficients are likely to fall with a certain level of confidence. In this case, we can be 95% confident that the true value of the cleanliness rating coefficient falls between -7.22 and 28.83, and that the true value of the distance to the metro station coefficient falls between -62.32 and -1.51.\n",
    "> \n",
    "> The output also includes other diagnostic statistics such as the omnibus test of model significance, which tests whether the model as a whole is statistically significant, and the Durbin-Watson statistic, which tests for autocorrelation in the residuals.\n",
    "> \n",
    "> Finally, the output includes the predicted rental prices for two new observations with cleanliness ratings of 4.5 and 4.8, and metro distances of 1.2 and 1.8. The predicted prices are 167.21 and 151.31, respectively."
   ]
  },
  {
   "cell_type": "markdown",
   "id": "422f4f2a",
   "metadata": {
    "papermill": {
     "duration": 0.010158,
     "end_time": "2023-03-11T16:47:06.770432",
     "exception": false,
     "start_time": "2023-03-11T16:47:06.760274",
     "status": "completed"
    },
    "tags": []
   },
   "source": [
    "# 4. **Distance to Metros**"
   ]
  },
  {
   "cell_type": "code",
   "execution_count": 18,
   "id": "79a3d4b4",
   "metadata": {
    "execution": {
     "iopub.execute_input": "2023-03-11T16:47:06.794463Z",
     "iopub.status.busy": "2023-03-11T16:47:06.793892Z",
     "iopub.status.idle": "2023-03-11T16:47:07.039645Z",
     "shell.execute_reply": "2023-03-11T16:47:07.038159Z"
    },
    "papermill": {
     "duration": 0.260944,
     "end_time": "2023-03-11T16:47:07.042508",
     "exception": false,
     "start_time": "2023-03-11T16:47:06.781564",
     "status": "completed"
    },
    "tags": []
   },
   "outputs": [
    {
     "data": {
      "image/png": "[encoded data removed]",
      "text/plain": [
       "<Figure size 640x480 with 1 Axes>"
      ]
     },
     "metadata": {},
     "output_type": "display_data"
    }
   ],
   "source": [
    "# Calculate the average metro distance for each room type\n",
    "room_types = cities_data['room_type'].unique()\n",
    "avg_metro_dists = []\n",
    "for room_type in room_types:\n",
    "    metro_dist = cities_data[cities_data['room_type'] == room_type]['metro_dist']\n",
    "    avg_metro_dist = metro_dist.mean()\n",
    "    avg_metro_dists.append(avg_metro_dist)\n",
    "\n",
    "# Create a bar plot of the average metro distance for each room type\n",
    "plt.bar(room_types, avg_metro_dists)\n",
    "plt.title(\"Average Metro Distance by Room Type\")\n",
    "plt.xlabel(\"Room Type\")\n",
    "plt.ylabel(\"Average Metro Distance\")\n",
    "plt.show()"
   ]
  },
  {
   "cell_type": "markdown",
   "id": "72aa5f8d",
   "metadata": {
    "papermill": {
     "duration": 0.011169,
     "end_time": "2023-03-11T16:47:07.065218",
     "exception": false,
     "start_time": "2023-03-11T16:47:07.054049",
     "status": "completed"
    },
    "tags": []
   },
   "source": [
    "# **5. Amenities**"
   ]
  },
  {
   "cell_type": "markdown",
   "id": "043e3f8d",
   "metadata": {
    "papermill": {
     "duration": 0.011719,
     "end_time": "2023-03-11T16:47:07.088376",
     "exception": false,
     "start_time": "2023-03-11T16:47:07.076657",
     "status": "completed"
    },
    "tags": []
   },
   "source": [
    "# **6. Geographic Patterns**"
   ]
  }
 ],
 "metadata": {
  "kernelspec": {
   "display_name": "Python 3",
   "language": "python",
   "name": "python3"
  },
  "language_info": {
   "codemirror_mode": {
    "name": "ipython",
    "version": 3
   },
   "file_extension": ".py",
   "mimetype": "text/x-python",
   "name": "python",
   "nbconvert_exporter": "python",
   "pygments_lexer": "ipython3",
   "version": "3.7.12"
  },
  "papermill": {
   "default_parameters": {},
   "duration": 18.625658,
   "end_time": "2023-03-11T16:47:07.923327",
   "environment_variables": {},
   "exception": null,
   "input_path": "__notebook__.ipynb",
   "output_path": "__notebook__.ipynb",
   "parameters": {},
   "start_time": "2023-03-11T16:46:49.297669",
   "version": "2.4.0"
  }
 },
 "nbformat": 4,
 "nbformat_minor": 5
}
